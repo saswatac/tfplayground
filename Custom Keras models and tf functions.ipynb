{
 "cells": [
  {
   "cell_type": "markdown",
   "metadata": {},
   "source": [
    "## Introduction\n",
    "\n",
    "In this notebbok, I will explore different strategies of how tf.functions can be used to improve the training speed of custom keras models.\n",
    "\n",
    "## Defining a custom model\n",
    "\n",
    "At our company, we train models on examples with varying shapes. Let us define a toy custom model which can accept an input which varies in length in the first dimension. \n",
    "\n",
    "The model performs a reduce_max across its's dimension, and then passes it through a series of dense layers with relu activation."
   ]
  },
  {
   "cell_type": "code",
   "execution_count": 1,
   "metadata": {},
   "outputs": [],
   "source": [
    "import tensorflow as tf\n",
    "\n",
    "class MyCustomModel(tf.keras.Model):\n",
    "    def __init__(self):\n",
    "        super(MyCustomModel, self).__init__()\n",
    "        num_hidden_layer_units = [10, 20, 40, 20, 10]\n",
    "        self.hidden_layers = [tf.keras.layers.Dense(unit, activation='relu') for unit in num_hidden_layer_units]\n",
    "        self.final = tf.keras.layers.Dense(1)\n",
    "    def call(self, inputs):\n",
    "        net = tf.math.reduce_max(inputs, axis=1, keepdims=True)\n",
    "        for layer in self.hidden_layers:\n",
    "            net = layer(net)\n",
    "        return self.final(net)\n",
    "    \n",
    "model = MyCustomModel()"
   ]
  },
  {
   "cell_type": "code",
   "execution_count": 2,
   "metadata": {},
   "outputs": [],
   "source": [
    "## Define loss and optimizer\n",
    "loss = tf.keras.losses.MeanSquaredError()\n",
    "optimizer = optimizer=tf.keras.optimizers.Adam(0.01)"
   ]
  },
  {
   "cell_type": "markdown",
   "metadata": {},
   "source": [
    "## Define the dataset\n",
    "\n",
    "We define a generator which yields samples varying in length in the first dimension. And then create a dataset where each example is of shape (X, 20) where X can vary between 1 and 10."
   ]
  },
  {
   "cell_type": "code",
   "execution_count": 3,
   "metadata": {},
   "outputs": [],
   "source": [
    "import numpy as np\n",
    "\n",
    "def data_gen(max_len, n_dim):\n",
    "    def gen(): \n",
    "        while True:\n",
    "            seq_len = np.random.randint(1, max_len+1)\n",
    "            yield np.random.random((seq_len, n_dim)).astype(np.float32), np.random.random()\n",
    "    return gen"
   ]
  },
  {
   "cell_type": "code",
   "execution_count": 4,
   "metadata": {},
   "outputs": [],
   "source": [
    "dataset = tf.data.Dataset.from_generator(\n",
    "    data_gen(10, 20),\n",
    "    (tf.float32, tf.float32), \n",
    "    (tf.TensorShape([None, 20]), tf.TensorShape([]))\n",
    ")\n",
    "# Set batch size 1\n",
    "dataset = dataset.batch(1)"
   ]
  },
  {
   "cell_type": "markdown",
   "metadata": {},
   "source": [
    "## Define the training loop"
   ]
  },
  {
   "cell_type": "code",
   "execution_count": 5,
   "metadata": {},
   "outputs": [],
   "source": [
    "def train_step(inputs, targets):\n",
    "    with tf.GradientTape() as tape:\n",
    "        preds = model(inputs, training=True)\n",
    "        loss_value = loss(preds, targets)\n",
    "    grad = tape.gradient(loss_value, model.trainable_variables)\n",
    "    optimizer.apply_gradients(zip(grad, model.trainable_variables))"
   ]
  },
  {
   "cell_type": "code",
   "execution_count": 6,
   "metadata": {},
   "outputs": [],
   "source": [
    "def train(dataset, train_step):\n",
    "    for inputs, target in dataset:\n",
    "        train_step(inputs, target)"
   ]
  },
  {
   "cell_type": "markdown",
   "metadata": {},
   "source": [
    "## Training in eager mode\n",
    "\n",
    "By default, tensorflow 2.1 runs everything in eager mode. Eager model is really convinient for model development, as it allows us to easily set breakpoints and step into each step of the model code. However eager mode is slow. Lets see the timings for running the training on 1000 examples."
   ]
  },
  {
   "cell_type": "code",
   "execution_count": 7,
   "metadata": {},
   "outputs": [],
   "source": [
    "train_data = dataset.take(1000)"
   ]
  },
  {
   "cell_type": "code",
   "execution_count": 8,
   "metadata": {},
   "outputs": [
    {
     "name": "stdout",
     "output_type": "stream",
     "text": [
      "CPU times: user 8.52 s, sys: 273 ms, total: 8.8 s\n",
      "Wall time: 8.44 s\n"
     ]
    }
   ],
   "source": [
    "%%time\n",
    "train(train_data, train_step)"
   ]
  },
  {
   "cell_type": "markdown",
   "metadata": {},
   "source": [
    "## Training with tf function\n",
    "\n",
    "Tf function provides the functionality of converting a python function automatically into a tensorflow graph which can then be executed efficiently by the tensorflow runtime.\n",
    "\n",
    "First we convert the `train_step` function into a tf function."
   ]
  },
  {
   "cell_type": "code",
   "execution_count": 9,
   "metadata": {},
   "outputs": [],
   "source": [
    "tf_train_step = tf.function(train_step)"
   ]
  },
  {
   "cell_type": "code",
   "execution_count": 10,
   "metadata": {},
   "outputs": [
    {
     "name": "stdout",
     "output_type": "stream",
     "text": [
      "WARNING:tensorflow:5 out of the last 5 calls to <function train_step at 0x141e629d8> triggered tf.function retracing. Tracing is expensive and the excessive number of tracings is likely due to passing python objects instead of tensors. Also, tf.function has experimental_relax_shapes=True option that relaxes argument shapes that can avoid unnecessary retracing. Please refer to https://www.tensorflow.org/tutorials/customization/performance#python_or_tensor_args and https://www.tensorflow.org/api_docs/python/tf/function for more details.\n",
      "WARNING:tensorflow:6 out of the last 9 calls to <function train_step at 0x141e629d8> triggered tf.function retracing. Tracing is expensive and the excessive number of tracings is likely due to passing python objects instead of tensors. Also, tf.function has experimental_relax_shapes=True option that relaxes argument shapes that can avoid unnecessary retracing. Please refer to https://www.tensorflow.org/tutorials/customization/performance#python_or_tensor_args and https://www.tensorflow.org/api_docs/python/tf/function for more details.\n",
      "WARNING:tensorflow:6 out of the last 11 calls to <function train_step at 0x141e629d8> triggered tf.function retracing. Tracing is expensive and the excessive number of tracings is likely due to passing python objects instead of tensors. Also, tf.function has experimental_relax_shapes=True option that relaxes argument shapes that can avoid unnecessary retracing. Please refer to https://www.tensorflow.org/tutorials/customization/performance#python_or_tensor_args and https://www.tensorflow.org/api_docs/python/tf/function for more details.\n",
      "CPU times: user 2.7 s, sys: 503 ms, total: 3.2 s\n",
      "Wall time: 2.37 s\n"
     ]
    }
   ],
   "source": [
    "%%time\n",
    "train(train_data, tf_train_step)"
   ]
  },
  {
   "cell_type": "markdown",
   "metadata": {},
   "source": [
    "We notice that the time taken improves drastically from 8.44 sec to 2.25 secs. We also notice a bunch of warnings from tensorflow about retracing.\n",
    "\n",
    "Retracing happens because the shape of the examples are not the same. Whenever the function encounters a shape that it has not seen below, it will compile a new graph for that shape. Compiling a new graph is expensive. In our case, the dataset can have 10 different shapes, so the retracing operation will happen upto 10 times."
   ]
  },
  {
   "cell_type": "markdown",
   "metadata": {},
   "source": [
    "## Training with tf function with signatures\n",
    "\n",
    "To avoid retracing for each new shape, we can provide an input signature for the tf function. The dimensions which vary can be indicated with a `None`."
   ]
  },
  {
   "cell_type": "code",
   "execution_count": 11,
   "metadata": {},
   "outputs": [],
   "source": [
    "tf_train_step_signature = tf.function(\n",
    "    train_step,\n",
    "    input_signature=[\n",
    "        tf.TensorSpec(shape=(None, None, 20), dtype=tf.float32), \n",
    "        tf.TensorSpec(shape=(None,), dtype=tf.float32)\n",
    "    ]\n",
    ")"
   ]
  },
  {
   "cell_type": "code",
   "execution_count": 12,
   "metadata": {},
   "outputs": [
    {
     "name": "stdout",
     "output_type": "stream",
     "text": [
      "CPU times: user 1.27 s, sys: 453 ms, total: 1.72 s\n",
      "Wall time: 904 ms\n"
     ]
    }
   ],
   "source": [
    "%%time\n",
    "train(train_data, tf_train_step_signature)"
   ]
  },
  {
   "cell_type": "markdown",
   "metadata": {},
   "source": [
    "## Comparing tf functions with and without signature\n",
    "\n",
    "Using a signature avoids the retracing and the training time improved further from 2.25s to 1.11s . Before deciding that using a signature is better, let us perform the training with more examples and add some instrumentation."
   ]
  },
  {
   "cell_type": "code",
   "execution_count": 13,
   "metadata": {},
   "outputs": [],
   "source": [
    "train_data_large = dataset.take(20000)"
   ]
  },
  {
   "cell_type": "code",
   "execution_count": 14,
   "metadata": {},
   "outputs": [],
   "source": [
    "from time import time\n",
    "\n",
    "def timer(f, timings):\n",
    "    def wraps(*args, **kwargs):\n",
    "        st = time()\n",
    "        res = f(*args, **kwargs)\n",
    "        en = time()\n",
    "        timings.append(en-st)\n",
    "    return wraps"
   ]
  },
  {
   "cell_type": "code",
   "execution_count": 15,
   "metadata": {},
   "outputs": [],
   "source": [
    "timings_tf = []\n",
    "tf_train_step = timer(tf.function(train_step), timings_tf)"
   ]
  },
  {
   "cell_type": "code",
   "execution_count": 16,
   "metadata": {},
   "outputs": [
    {
     "name": "stdout",
     "output_type": "stream",
     "text": [
      "WARNING:tensorflow:5 out of the last 5 calls to <function train_step at 0x141e629d8> triggered tf.function retracing. Tracing is expensive and the excessive number of tracings is likely due to passing python objects instead of tensors. Also, tf.function has experimental_relax_shapes=True option that relaxes argument shapes that can avoid unnecessary retracing. Please refer to https://www.tensorflow.org/tutorials/customization/performance#python_or_tensor_args and https://www.tensorflow.org/api_docs/python/tf/function for more details.\n",
      "WARNING:tensorflow:6 out of the last 6 calls to <function train_step at 0x141e629d8> triggered tf.function retracing. Tracing is expensive and the excessive number of tracings is likely due to passing python objects instead of tensors. Also, tf.function has experimental_relax_shapes=True option that relaxes argument shapes that can avoid unnecessary retracing. Please refer to https://www.tensorflow.org/tutorials/customization/performance#python_or_tensor_args and https://www.tensorflow.org/api_docs/python/tf/function for more details.\n",
      "WARNING:tensorflow:7 out of the last 8 calls to <function train_step at 0x141e629d8> triggered tf.function retracing. Tracing is expensive and the excessive number of tracings is likely due to passing python objects instead of tensors. Also, tf.function has experimental_relax_shapes=True option that relaxes argument shapes that can avoid unnecessary retracing. Please refer to https://www.tensorflow.org/tutorials/customization/performance#python_or_tensor_args and https://www.tensorflow.org/api_docs/python/tf/function for more details.\n",
      "WARNING:tensorflow:5 out of the last 11 calls to <function train_step at 0x141e629d8> triggered tf.function retracing. Tracing is expensive and the excessive number of tracings is likely due to passing python objects instead of tensors. Also, tf.function has experimental_relax_shapes=True option that relaxes argument shapes that can avoid unnecessary retracing. Please refer to https://www.tensorflow.org/tutorials/customization/performance#python_or_tensor_args and https://www.tensorflow.org/api_docs/python/tf/function for more details.\n",
      "CPU times: user 17.9 s, sys: 8.43 s, total: 26.3 s\n",
      "Wall time: 12 s\n"
     ]
    }
   ],
   "source": [
    "%%time\n",
    "train(train_data_large, tf_train_step)"
   ]
  },
  {
   "cell_type": "code",
   "execution_count": 17,
   "metadata": {},
   "outputs": [],
   "source": [
    "timings_tf_signature = []\n",
    "tf_train_step_signature = timer(\n",
    "    tf.function(\n",
    "        train_step,\n",
    "        input_signature=[\n",
    "            tf.TensorSpec(shape=(None, None, 20), dtype=tf.float32), \n",
    "            tf.TensorSpec(shape=(None,), dtype=tf.float32)\n",
    "        ]\n",
    "    ),\n",
    "    timings_tf_signature\n",
    ")"
   ]
  },
  {
   "cell_type": "code",
   "execution_count": 18,
   "metadata": {},
   "outputs": [
    {
     "name": "stdout",
     "output_type": "stream",
     "text": [
      "CPU times: user 19.5 s, sys: 8.59 s, total: 28.1 s\n",
      "Wall time: 14 s\n"
     ]
    }
   ],
   "source": [
    "%%time\n",
    "train(train_data_large, tf_train_step_signature)"
   ]
  },
  {
   "cell_type": "markdown",
   "metadata": {},
   "source": [
    "So as it turned out, in the long run the tf function without signature was faster than tf function with signature. Plotting the timings will make it clear why this happens. "
   ]
  },
  {
   "cell_type": "code",
   "execution_count": 19,
   "metadata": {},
   "outputs": [],
   "source": [
    "from matplotlib.pylab import plt"
   ]
  },
  {
   "cell_type": "code",
   "execution_count": 20,
   "metadata": {},
   "outputs": [
    {
     "data": {
      "text/plain": [
       "[<matplotlib.lines.Line2D at 0x145f835f8>]"
      ]
     },
     "execution_count": 20,
     "metadata": {},
     "output_type": "execute_result"
    },
    {
     "data": {
      "image/png": "[encoded data removed]",
      "text/plain": [
       "<Figure size 432x288 with 1 Axes>"
      ]
     },
     "metadata": {
      "needs_background": "light"
     },
     "output_type": "display_data"
    }
   ],
   "source": [
    "plt.plot(timings_tf[0:100])"
   ]
  },
  {
   "cell_type": "markdown",
   "metadata": {},
   "source": [
    "The graph plots the time to run each train step. There are some initial spikes in the plot. The spikes happen whenever a expensive retracing of the graph occurs. But once all the possible shapes in the data is encountered, there are no further retracing."
   ]
  },
  {
   "cell_type": "code",
   "execution_count": 21,
   "metadata": {},
   "outputs": [
    {
     "data": {
      "text/plain": [
       "[<matplotlib.lines.Line2D at 0x146048f60>]"
      ]
     },
     "execution_count": 21,
     "metadata": {},
     "output_type": "execute_result"
    },
    {
     "data": {
      "image/png": "[encoded data removed]",
      "text/plain": [
       "<Figure size 432x288 with 1 Axes>"
      ]
     },
     "metadata": {
      "needs_background": "light"
     },
     "output_type": "display_data"
    }
   ],
   "source": [
    "plt.plot(timings_tf_signature[0:100])"
   ]
  },
  {
   "cell_type": "markdown",
   "metadata": {},
   "source": [
    "For the graph of tf function with signature, retracing does not happen, so after the initial first expensive step when the graph is constructed, the rest of the steps take the same amount of time.\n",
    "\n",
    "So let us know now compare the time needed to run a single step between the two cases, discarding all the retracing operations."
   ]
  },
  {
   "cell_type": "code",
   "execution_count": 22,
   "metadata": {},
   "outputs": [
    {
     "data": {
      "image/png": "[encoded data removed]",
      "text/plain": [
       "<Figure size 432x288 with 1 Axes>"
      ]
     },
     "metadata": {
      "needs_background": "light"
     },
     "output_type": "display_data"
    }
   ],
   "source": [
    "plt.ioff()\n",
    "plt.plot(timings_tf[100:], label=\"tf func\")\n",
    "plt.plot(timings_tf_signature[100:], label=\"tf func with signature\")\n",
    "plt.legend(loc=\"upper left\")\n",
    "plt.show()"
   ]
  },
  {
   "cell_type": "markdown",
   "metadata": {},
   "source": [
    "The plot shows clearly that indeed the tf function with signature is slower."
   ]
  },
  {
   "cell_type": "markdown",
   "metadata": {},
   "source": [
    "## In-graph training loop\n",
    "\n",
    "It is also possible to wrap the entire `train` function as a tf function. In this case, the entire training including the dataset iteration happens within the compiled tensorflow graph."
   ]
  },
  {
   "cell_type": "code",
   "execution_count": 23,
   "metadata": {},
   "outputs": [],
   "source": [
    "tf_train = tf.function(train)"
   ]
  },
  {
   "cell_type": "code",
   "execution_count": 24,
   "metadata": {},
   "outputs": [
    {
     "name": "stdout",
     "output_type": "stream",
     "text": [
      "CPU times: user 14.7 s, sys: 8.42 s, total: 23.1 s\n",
      "Wall time: 8.09 s\n"
     ]
    }
   ],
   "source": [
    "%%time\n",
    "tf_train(train_data_large, train_step)"
   ]
  },
  {
   "cell_type": "markdown",
   "metadata": {},
   "source": [
    "## Conclusion\n",
    "\n",
    "By default tensorflow 2.1 runs in eager mode which is useful for development and debugging. Performance can be boosted by wrapping your functions in `tf.function` which compiles a tensorflow graph which the framework can execute efficiently.\n",
    "\n",
    "There are several ways to wrap portions of your code as a `tf.function` . In the demonstrated toy example, the best performance was observed with the case when the entire training happened inside a tf.function.\n",
    "\n",
    "However in real world use case there are several factors at play - whether all of the dataset is in memory or streamed from disk / network , computational load of the model, whether gpu / multiple gpus are being used, how the shapes of your training data varies etc. One should experiment to figure how the `tf.function` can be used most efficiently.\n"
   ]
  }
 ],
 "metadata": {
  "kernelspec": {
   "display_name": "Python 3",
   "language": "python",
   "name": "python3"
  },
  "language_info": {
   "codemirror_mode": {
    "name": "ipython",
    "version": 3
   },
   "file_extension": ".py",
   "mimetype": "text/x-python",
   "name": "python",
   "nbconvert_exporter": "python",
   "pygments_lexer": "ipython3",
   "version": "3.6.10"
  }
 },
 "nbformat": 4,
 "nbformat_minor": 4
}
